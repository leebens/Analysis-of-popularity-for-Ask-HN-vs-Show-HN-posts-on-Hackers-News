{
 "cells": [
  {
   "cell_type": "markdown",
   "metadata": {},
   "source": [
    "# Analysis of popularity for Ask HN vs Show HN posts on Hackers News"
   ]
  },
  {
   "cell_type": "markdown",
   "metadata": {},
   "source": [
    "Hacker News is a site started by the startup incubator Y Combinator, where user-submitted stories (known as \"posts\") are voted and commented upon, similar to reddit. Hacker News is extremely popular in technology and startup circles, and posts that make it to the top of Hacker News' listings can get hundreds of thousands of visitors as a result.\n",
    "\n",
    "The data set used here was found on Kaggle and is a scrape that has been reduced from almost 300,000 rows to approximately 20,000 rows by removing all submissions that did not receive any comments, and then randomly sampling from the remaining submissions.\n",
    "\n",
    "We're specifically interested in posts whose titles begin with either Ask HN or Show HN. Users submit Ask HN posts to ask the Hacker News community a specific question. Users submit Show HN posts to show the Hacker News community a project, product, or just generally something interesting. \n",
    "\n",
    "We'll compare these two types of posts to determine the following:\n",
    "- Do Ask HN or Show HN receive more comments on average?\n",
    "- Do posts created at a certain time receive more comments on average?"
   ]
  },
  {
   "cell_type": "code",
   "execution_count": 1,
   "metadata": {},
   "outputs": [],
   "source": [
    "import statistics\n",
    "from IPython.display import display, HTML"
   ]
  },
  {
   "cell_type": "code",
   "execution_count": 2,
   "metadata": {},
   "outputs": [
    {
     "name": "stdout",
     "output_type": "stream",
     "text": [
      "[['id', 'title', 'url', 'num_points', 'num_comments', 'author', 'created_at']]\n",
      "\n",
      "\n",
      "[['12579008', 'You have two days to comment if you want stem cells to be classified as your own', 'http://www.regulations.gov/document?D=FDA-2015-D-3719-0018', '1', '0', 'altstar', '9/26/2016 3:26'], ['12579005', 'SQLAR  the SQLite Archiver', 'https://www.sqlite.org/sqlar/doc/trunk/README.md', '1', '0', 'blacksqr', '9/26/2016 3:24'], ['12578997', 'What if we just printed a flatscreen television on the side of our boxes?', 'https://medium.com/vanmoof/our-secrets-out-f21c1f03fdc8#.ietxmez43', '1', '0', 'pavel_lishin', '9/26/2016 3:19'], ['12578989', 'algorithmic music', 'http://cacm.acm.org/magazines/2011/7/109891-algorithmic-composition/fulltext', '1', '0', 'poindontcare', '9/26/2016 3:16'], ['12578979', 'How the Data Vault Enables the Next-Gen Data Warehouse and Data Lake', 'https://www.talend.com/blog/2016/05/12/talend-and-Â\\x93the-data-vaultÂ\\x94', '1', '0', 'markgainor1', '9/26/2016 3:14']]\n"
     ]
    }
   ],
   "source": [
    "opened_file_HNposts = open('HN_posts_year_to_Sep_26_2016.csv')\n",
    "from csv import reader\n",
    "read_file_HNposts = reader(opened_file_HNposts)\n",
    "hn = list(read_file_HNposts)\n",
    "# android_header = android_list[0]\n",
    "# android = android_list[1:]\n",
    "\n",
    "header = hn[0:1]\n",
    "hn = hn[1:]\n",
    "print(header)\n",
    "print(\"\\n\")\n",
    "print(hn[0:5])\n",
    "\n",
    "#print(android_list[0:2])"
   ]
  },
  {
   "cell_type": "code",
   "execution_count": 8,
   "metadata": {},
   "outputs": [
    {
     "name": "stdout",
     "output_type": "stream",
     "text": [
      "9139\n",
      "10158\n",
      "273822\n"
     ]
    }
   ],
   "source": [
    "#Assign title based on post type\n",
    "\n",
    "ask_posts = []\n",
    "show_posts = []\n",
    "other_posts = []\n",
    "\n",
    "for row in hn:\n",
    "    title = row[1]\n",
    "    if title.lower().startswith(\"ask hn\"):\n",
    "        ask_posts.append(row)\n",
    "    elif title.lower().startswith(\"show hn\"):\n",
    "        show_posts.append(row)\n",
    "    else:\n",
    "        other_posts.append(row)\n",
    "\n",
    "#Check lengths of lists\n",
    "print(len(ask_posts))\n",
    "print(len(show_posts))\n",
    "print(len(other_posts))"
   ]
  },
  {
   "cell_type": "code",
   "execution_count": 4,
   "metadata": {},
   "outputs": [
    {
     "name": "stdout",
     "output_type": "stream",
     "text": [
      "total_ask_comments: 94986\n",
      "avg_ask_comments: 10\n",
      "total_show_comments: 49633\n",
      "avg_show_comments: 5\n"
     ]
    }
   ],
   "source": [
    "#Find the total number of comments in asks posts and assign it to total_ask_comments\n",
    "total_ask_comments = 0\n",
    "num_ask_comments_per_post = []\n",
    "for row in ask_posts:\n",
    "    num_comments = row[4]\n",
    "    total_ask_comments += int(num_comments)\n",
    "    num_ask_comments_per_post.append(int(num_comments))\n",
    "print('total_ask_comments: '+ str(total_ask_comments))\n",
    "\n",
    "#Compute the average number of comments on ask posts and assign it to avg_ask_comments.\n",
    "avg_ask_comments = \"{:,.0f}\".format(statistics.mean(num_ask_comments_per_post))\n",
    "print('avg_ask_comments: '+str(avg_ask_comments))\n",
    "\n",
    "#Find the total number of comments in show posts and assign it to total_show_comments.\n",
    "total_show_comments = 0\n",
    "num_show_comments_per_post = []\n",
    "for row in show_posts:\n",
    "    num_comments = row[4]\n",
    "    total_show_comments += int(num_comments)\n",
    "    num_show_comments_per_post.append(int(num_comments))\n",
    "print('total_show_comments: '+ str(total_show_comments))\n",
    "\n",
    "#Compute the average number of comments on show posts and assign it to avg_show_comments.\n",
    "avg_show_comments = \"{:,.0f}\".format(statistics.mean(num_show_comments_per_post))\n",
    "print('avg_show_comments: '+str(avg_show_comments))\n",
    "\n",
    "\n",
    "\n",
    "\n"
   ]
  },
  {
   "cell_type": "markdown",
   "metadata": {},
   "source": [
    "## Findings:"
   ]
  },
  {
   "cell_type": "markdown",
   "metadata": {},
   "source": [
    "Reviewing these numbers we see that ask posts receive 2:1 more comments on average"
   ]
  },
  {
   "cell_type": "markdown",
   "metadata": {},
   "source": [
    "## Deeper dive: The amount of Asks Posts vs comments received by Hour Created"
   ]
  },
  {
   "cell_type": "markdown",
   "metadata": {},
   "source": [
    "Next we examine how time of Ask Posts results in varying volumes of comments"
   ]
  },
  {
   "cell_type": "code",
   "execution_count": 12,
   "metadata": {},
   "outputs": [
    {
     "name": "stdout",
     "output_type": "stream",
     "text": [
      "Average number of comments asks posts received per hour of day posted:\n",
      "#We will clean this up in the next step\n"
     ]
    },
    {
     "data": {
      "text/plain": [
       "[['02', 12.803418803418804],\n",
       " ['01', 8.927350427350428],\n",
       " ['22', 14.41025641025641],\n",
       " ['21', 19.23076923076923],\n",
       " ['19', 16.897435897435898],\n",
       " ['17', 23.705128205128204],\n",
       " ['15', 79.16666666666667],\n",
       " ['14', 21.247863247863247],\n",
       " ['13', 30.96153846153846],\n",
       " ['11', 11.952991452991453],\n",
       " ['10', 12.876068376068377],\n",
       " ['09', 6.311965811965812],\n",
       " ['07', 6.773504273504273],\n",
       " ['03', 9.205128205128204],\n",
       " ['23', 9.816239316239317],\n",
       " ['20', 19.068376068376068],\n",
       " ['16', 19.085470085470085],\n",
       " ['08', 10.094017094017094],\n",
       " ['00', 9.73076923076923],\n",
       " ['18', 20.84188034188034],\n",
       " ['12', 18.094017094017094],\n",
       " ['04', 10.085470085470085],\n",
       " ['06', 6.782051282051282],\n",
       " ['05', 7.854700854700854]]"
      ]
     },
     "metadata": {},
     "output_type": "display_data"
    }
   ],
   "source": [
    "#See if ask posts created at a certain time are more likely to attract comments\n",
    "\n",
    "#Import the datetime module as dt\n",
    "import datetime as dt\n",
    "\n",
    "#Create an empty list and assign it to result_list\n",
    "result_list = []\n",
    "\n",
    "#Iterate over ask posts and append to result_list list with two elements: created_at and number of comments of the post\n",
    "for row in ask_posts:\n",
    "    created_at = row[6]\n",
    "    post_comments = int(row[4])\n",
    "    result_list.append([created_at, post_comments])\n",
    "    \n",
    "#display(result_list)\n",
    "\n",
    "#Create two empty dictionaries called counts_by_hour and comments_by_hour\n",
    "counts_by_hour = {}\n",
    "comments_by_hour = {}\n",
    "\n",
    "#Loop through each row of result_list. Extract hour from the date. Use datetime.strptime() method to parse the date and create a datetime object\n",
    "for row in result_list:\n",
    "    #print(row)\n",
    "    date = dt.datetime.strptime(row[0], \"%m/%d/%Y %H:%M\")\n",
    "    hour = dt.datetime.strftime(date, \"%H\")\n",
    "    if hour in counts_by_hour:\n",
    "        comments_by_hour[hour] += row[1]\n",
    "        counts_by_hour[hour] += 1\n",
    "    else:\n",
    "        comments_by_hour[hour] = row[1]\n",
    "        counts_by_hour[hour] = 1\n",
    "#display(result_list)\n",
    "#display(comments_by_hour)\n",
    "\n",
    "#find the average number of comments per posts for posts created during each hour of the day\n",
    "avg_by_hour = []\n",
    "for row in comments_by_hour:\n",
    "    avg_by_hour.append([row, comments_by_hour[row]/counts_by_hour[hour]])\n",
    "\n",
    "print('Average number of comments asks posts received per hour of day posted:')\n",
    "print('#We will clean this up in the next step')\n",
    "display(avg_by_hour)\n"
   ]
  },
  {
   "cell_type": "code",
   "execution_count": 16,
   "metadata": {},
   "outputs": [
    {
     "data": {
      "text/plain": [
       "[[79.16666666666667, '15'],\n",
       " [30.96153846153846, '13'],\n",
       " [23.705128205128204, '17'],\n",
       " [21.247863247863247, '14'],\n",
       " [20.84188034188034, '18'],\n",
       " [19.23076923076923, '21'],\n",
       " [19.085470085470085, '16'],\n",
       " [19.068376068376068, '20'],\n",
       " [18.094017094017094, '12'],\n",
       " [16.897435897435898, '19'],\n",
       " [14.41025641025641, '22'],\n",
       " [12.876068376068377, '10'],\n",
       " [12.803418803418804, '02'],\n",
       " [11.952991452991453, '11'],\n",
       " [10.094017094017094, '08'],\n",
       " [10.085470085470085, '04'],\n",
       " [9.816239316239317, '23'],\n",
       " [9.73076923076923, '00'],\n",
       " [9.205128205128204, '03'],\n",
       " [8.927350427350428, '01'],\n",
       " [7.854700854700854, '05'],\n",
       " [6.782051282051282, '06'],\n",
       " [6.773504273504273, '07'],\n",
       " [6.311965811965812, '09']]"
      ]
     },
     "metadata": {},
     "output_type": "display_data"
    }
   ],
   "source": [
    "#Create a list that equals avg_by_hour with swapped columns\n",
    "swap_avg_by_hour = []\n",
    "\n",
    "for row in avg_by_hour:\n",
    "    swap_avg_by_hour.append([row[1], row[0]])\n",
    "#print(swap_avg_by_hour)\n",
    "\n",
    "#Use the sorted() function to sort swap_avg_by_hour in descending order\n",
    "sorted_swap = sorted(swap_avg_by_hour, reverse = True)\n",
    "\n",
    "display(sorted_swap)"
   ]
  },
  {
   "cell_type": "code",
   "execution_count": 18,
   "metadata": {},
   "outputs": [
    {
     "name": "stdout",
     "output_type": "stream",
     "text": [
      "The top 5 hours for Ask Posts comments\n",
      "15:00: 79.17 average comments per post\n",
      "13:00: 30.96 average comments per post\n",
      "17:00: 23.71 average comments per post\n",
      "14:00: 21.25 average comments per post\n",
      "18:00: 20.84 average comments per post\n"
     ]
    }
   ],
   "source": [
    "print(\"The top 5 hours for Ask Posts comments\")\n",
    "for avg, hr in sorted_swap[:5]:\n",
    "    print(\n",
    "            \"{}: {:.2f} average comments per post\".format(\n",
    "            dt.datetime.strptime(hr, \"%H\").strftime(\"%H:%M\"), avg\n",
    "            )\n",
    "    )\n",
    "    "
   ]
  },
  {
   "cell_type": "markdown",
   "metadata": {},
   "source": [
    "The hour that receives the most comments per post is 3:00 pm followed by 1:00 pm. It is worthy to note that the number 1 time has nearly 60% more posts for the hour than the second nearest hour."
   ]
  },
  {
   "cell_type": "markdown",
   "metadata": {},
   "source": [
    "## Conclusion"
   ]
  },
  {
   "cell_type": "markdown",
   "metadata": {},
   "source": [
    "In this project we examined posts that had received comments on the Hacker News website. We looked for popularity patterns, first in Ask vs Show posts, then for the most popular time of day to make the post. Based on our analysis we determined that Ask Posts receive more comments than Show Posts. Further, that 3:00 pm is the best hour of the day to maximize the amount of comments a post receives. One should follow both of those directions to maximize the number of comments his/her post will receive."
   ]
  }
 ],
 "metadata": {
  "kernelspec": {
   "display_name": "Python 3",
   "language": "python",
   "name": "python3"
  },
  "language_info": {
   "codemirror_mode": {
    "name": "ipython",
    "version": 3
   },
   "file_extension": ".py",
   "mimetype": "text/x-python",
   "name": "python",
   "nbconvert_exporter": "python",
   "pygments_lexer": "ipython3",
   "version": "3.7.1"
  }
 },
 "nbformat": 4,
 "nbformat_minor": 2
}
